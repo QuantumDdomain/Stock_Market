{
 "cells": [
  {
   "cell_type": "markdown",
   "id": "5184e82d",
   "metadata": {},
   "source": [
    "# **Quantum Finance: Portfolio Optimization with QAOA**\n",
    "\n",
    "This notebook demonstrates how to formulate and solve a portfolio optimization problem using the Quantum Approximate Optimization Algorithm (QAOA) on Qiskit."
   ]
  },
  {
   "cell_type": "markdown",
   "id": "554008ad",
   "metadata": {},
   "source": [
    "## **1. Data Acquisition and Preprocessing**\n",
    "\n",
    "We start by fetching historical stock data, calculating daily returns, mean returns, and the covariance matrix. These will be essential for constructing our optimization problem."
   ]
  },
  {
   "cell_type": "code",
   "execution_count": 1,
   "id": "61a01483",
   "metadata": {},
   "outputs": [],
   "source": [
    "import warnings\n",
    "warnings.filterwarnings('ignore')\n",
    "\n",
    "import numpy as np\n",
    "import pandas as pd\n",
    "import yfinance as yf"
   ]
  },
  {
   "cell_type": "code",
   "execution_count": 2,
   "id": "f0387ef9",
   "metadata": {},
   "outputs": [
    {
     "name": "stdout",
     "output_type": "stream",
     "text": [
      "Downloading historical data...\n"
     ]
    },
    {
     "name": "stderr",
     "output_type": "stream",
     "text": [
      "[*********************100%***********************]  10 of 10 completed"
     ]
    },
    {
     "name": "stdout",
     "output_type": "stream",
     "text": [
      "✅ Final selected assets (10): ['AAPL', 'AMZN', 'GOOGL', 'JPM', 'META', 'MSFT', 'NFLX', 'NVDA', 'TSLA', 'V']\n",
      "\n",
      "Number of assets: 10\n"
     ]
    },
    {
     "name": "stderr",
     "output_type": "stream",
     "text": [
      "\n"
     ]
    }
   ],
   "source": [
    "# List of 10 real stocks (modify as you wish)\n",
    "tickers = ['AAPL', 'MSFT', 'GOOGL', 'AMZN', 'TSLA',\n",
    "           'NVDA', 'META', 'JPM', 'V', 'NFLX']\n",
    "\n",
    "print(\"Downloading historical data...\")\n",
    "data = yf.download(tickers, period='1y')\n",
    "\n",
    "# 2. Extract close prices (multi-index safe)\n",
    "if isinstance(data.columns, pd.MultiIndex):\n",
    "    close_prices = data['Close']\n",
    "else:\n",
    "    close_prices = data\n",
    "\n",
    "# Drop columns with too many missing values (e.g., >10%)\n",
    "close_prices = close_prices.dropna(axis=1, thresh=len(close_prices) * 0.9)\n",
    "selected_tickers = close_prices.columns.tolist()\n",
    "print(f\"✅ Final selected assets ({len(selected_tickers)}): {selected_tickers}\")\n",
    "\n",
    "# 3. Daily returns\n",
    "returns = close_prices.pct_change().dropna()\n",
    "mean_returns = returns.mean().values\n",
    "cov_matrix = returns.cov().values\n",
    "\n",
    "n = len(selected_tickers)\n",
    "print(f\"\\nNumber of assets: {n}\")"
   ]
  },
  {
   "cell_type": "markdown",
   "id": "80b55d7d",
   "metadata": {},
   "source": [
    "## **2. Problem Formulation: Quadratic Unconstrained Binary Optimization (QUBO)**\n",
    "\n",
    "Portfolio optimization can be formulated as a QUBO problem. We aim to minimize a function that balances risk and return. The decision variables $x_i$ are binary, where $x_i=1$ if asset $i$ is selected and $x_i=0$ otherwise.\n",
    "\n",
    "The general form of the QUBO objective function is:\n",
    "\n",
    "$$ \\text{Minimize: } H(x) = \\sum_{i} Q_{ii} x_i + \\sum_{i<j} Q_{ij} x_i x_j $$\n",
    "\n",
    "For portfolio optimization, we typically use a mean-variance objective, which seeks to minimize the portfolio variance while maximizing its expected return. This can be expressed as:\n",
    "\n",
    "$$ \\text{Minimize: } \\quad \\lambda \\sum_{i,j} \\Sigma_{ij} x_i x_j - \\sum_i \\mu_i x_i $$\n",
    "\n",
    "Where:\n",
    "* $x_i \\in \\{0, 1\\}$ are the binary decision variables.\n",
    "* $\\Sigma_{ij}$ are the elements of the covariance matrix, representing risk.\n",
    "* $\\mu_i$ are the expected returns for each asset.\n",
    "* $\\lambda$ is a positive risk-aversion parameter, controlling the trade-off between risk and return.\n",
    "\n",
    "### **2.1 Encoding Risk Term (Variance)**\n",
    "\n",
    "The risk term corresponds to the portfolio variance:\n",
    "\n",
    "$$ \\text{Risk Term} = \\lambda \\sum_{i,j} \\Sigma_{ij} x_i x_j $$\n",
    "\n",
    "This term contributes to the quadratic coefficients ($Q_{ij}$) in our QUBO, encouraging diversification and penalizing high variance."
   ]
  },
  {
   "cell_type": "code",
   "execution_count": 3,
   "id": "16079ad1",
   "metadata": {},
   "outputs": [],
   "source": [
    "# Build Risk QUBO (λ Σ)\n",
    "lambda_risk = 10.0  # Penalty weight (tune this) - Higher lambda means more risk aversion\n",
    "Q_risk = {}\n",
    "for i in range(n):\n",
    "    for j in range(n):\n",
    "        Q_risk[(i, j)] = lambda_risk * cov_matrix[i][j]"
   ]
  },
  {
   "cell_type": "code",
   "execution_count": 4,
   "id": "70b3e514",
   "metadata": {},
   "outputs": [],
   "source": [
    "# Build Return QUBO (-μ)\n",
    "Q_return = {}\n",
    "for i in range(n):\n",
    "    Q_return[(i, i)] = -mean_returns[i]"
   ]
  },
  {
   "cell_type": "code",
   "execution_count": 5,
   "id": "71b3e514",
   "metadata": {},
   "outputs": [
    {
     "name": "stdout",
     "output_type": "stream",
     "text": [
      "\n",
      "🔧 Final QUBO Matrix (λ Σ - μ):\n",
      "           AAPL      AMZN     GOOGL       JPM      META      MSFT      NFLX  \\\n",
      "AAPL   0.004084  0.002697  0.002135  0.001682  0.002769  0.001955  0.001659   \n",
      "AMZN   0.002697  0.003948  0.002909  0.002134  0.003795  0.002530  0.002169   \n",
      "GOOGL  0.002135  0.002909  0.003939  0.001413  0.002904  0.001914  0.001592   \n",
      "JPM    0.001682  0.002134  0.001413  0.001521  0.001816  0.001287  0.001443   \n",
      "META   0.002769  0.003795  0.002904  0.001816  0.003723  0.002549  0.002381   \n",
      "MSFT   0.001955  0.002530  0.001914  0.001287  0.002549  0.002019  0.001701   \n",
      "NFLX   0.001659  0.002169  0.001592  0.001443  0.002381  0.001701  0.001273   \n",
      "NVDA   0.003422  0.004689  0.003710  0.002428  0.004977  0.003587  0.003649   \n",
      "TSLA   0.004838  0.005814  0.005178  0.003799  0.005740  0.003847  0.004016   \n",
      "V      0.001385  0.001387  0.001110  0.001490  0.001436  0.000906  0.001086   \n",
      "\n",
      "           NVDA      TSLA         V  \n",
      "AAPL   0.003422  0.004838  0.001385  \n",
      "AMZN   0.004689  0.005814  0.001387  \n",
      "GOOGL  0.003710  0.005178  0.001110  \n",
      "JPM    0.002428  0.003799  0.001490  \n",
      "META   0.004977  0.005740  0.001436  \n",
      "MSFT   0.003587  0.003847  0.000906  \n",
      "NFLX   0.003649  0.004016  0.001086  \n",
      "NVDA   0.011571  0.008519  0.001441  \n",
      "TSLA   0.008519  0.019138  0.002832  \n",
      "V      0.001441  0.002832  0.000848  \n"
     ]
    }
   ],
   "source": [
    "# Final QUBO (Risk - Return)\n",
    "Q_total = {}\n",
    "for (i, j), val in Q_risk.items():\n",
    "    Q_total[(i, j)] = Q_total.get((i, j), 0) + val\n",
    "for (i, j), val in Q_return.items():\n",
    "    Q_total[(i, j)] = Q_total.get((i, j), 0) + val\n",
    "\n",
    "# Display the final Q_total matrix\n",
    "qubo_matrix = np.zeros((n, n))\n",
    "for (i, j), val in Q_total.items():\n",
    "    qubo_matrix[i, j] = val\n",
    "    if i != j:\n",
    "        qubo_matrix[j, i] = val\n",
    "\n",
    "qubo_df = pd.DataFrame(qubo_matrix, index=selected_tickers, columns=selected_tickers)\n",
    "print(\"\\n🔧 Final QUBO Matrix (λ Σ - μ):\")\n",
    "print(qubo_df.round(6))"
   ]
  },
  {
   "cell_type": "code",
   "execution_count": 6,
   "id": "75d4f123",
   "metadata": {},
   "outputs": [],
   "source": [
    "from qiskit_algorithms import QAOA\n",
    "from qiskit_algorithms.optimizers import COBYLA\n",
    "from qiskit_algorithms.utils import algorithm_globals\n",
    "from qiskit_aer.primitives import Sampler as AerSampler\n",
    "from qiskit_optimization.problems import QuadraticProgram\n",
    "from qiskit_optimization.algorithms import MinimumEigenOptimizer\n",
    "from qiskit.quantum_info import SparsePauliOp"
   ]
  },
  {
   "cell_type": "code",
   "execution_count": 7,
   "id": "7d345b4d",
   "metadata": {},
   "outputs": [
    {
     "name": "stdout",
     "output_type": "stream",
     "text": [
      "\n",
      "✅ Optimal Portfolio Selection:\n",
      "✔️ NFLX selected\n",
      "✔️ V selected\n",
      "\n",
      "🧮 Binary solution: [0. 0. 0. 0. 0. 0. 1. 0. 0. 1.]\n",
      "🎯 Objective value: 0.003206430827254917\n"
     ]
    }
   ],
   "source": [
    "algorithm_globals.random_seed = 42\n",
    "qp = QuadraticProgram()\n",
    "for i in range(n):\n",
    "    qp.binary_var(name=f'x{i}')\n",
    "linear = {}\n",
    "quadratic = {}\n",
    "for (i, j), val in Q_total.items():\n",
    "    if i == j:\n",
    "        linear[f'x{i}'] = val\n",
    "    else:\n",
    "        if (f'x{j}', f'x{i}') not in quadratic:\n",
    "            quadratic[(f'x{i}', f'x{j}')] = val\n",
    "qp.minimize(linear=linear, quadratic=quadratic)\n",
    "num_assets_to_select = 2\n",
    "qp.linear_constraint(\n",
    "    linear={f'x{i}': 1 for i in range(n)},\n",
    "    sense='==',\n",
    "    rhs=num_assets_to_select,\n",
    "    name='num_assets_constraint'\n",
    ")\n",
    "sampler = AerSampler()\n",
    "optimizer = COBYLA(maxiter=200)\n",
    "qaoa = QAOA(\n",
    "    sampler=sampler,\n",
    "    optimizer=optimizer,\n",
    "    reps=3\n",
    ")\n",
    "solver = MinimumEigenOptimizer(qaoa)\n",
    "result = solver.solve(qp)\n",
    "print(\"\\n✅ Optimal Portfolio Selection:\")\n",
    "if result.x is not None:\n",
    "    selected_indices = np.where(result.x == 1)[0]\n",
    "    if len(selected_indices) > 0:\n",
    "        for idx in selected_indices:\n",
    "            print(f\"✔️ {selected_tickers[idx]} selected\")\n",
    "    else:\n",
    "        print(\"No assets selected based on the optimization result (check constraints/QUBO weights).\" +\n",
    "              \" This can happen if the optimal solution for the given QUBO and constraints is indeed all zeros.\")\n",
    "else:\n",
    "    print(\"No optimal solution found or result.x is None.\")\n",
    "print(f\"\\n🧮 Binary solution: {result.x}\")\n",
    "print(f\"🎯 Objective value: {result.fval}\")"
   ]
  },
  {
   "cell_type": "code",
   "execution_count": null,
   "id": "d65f3555",
   "metadata": {},
   "outputs": [],
   "source": []
  }
 ],
 "metadata": {
  "kernelspec": {
   "display_name": "qiskit_env",
   "language": "python",
   "name": "python3"
  },
  "language_info": {
   "codemirror_mode": {
    "name": "ipython",
    "version": 3
   },
   "file_extension": ".py",
   "mimetype": "text/x-python",
   "name": "python",
   "nbconvert_exporter": "python",
   "pygments_lexer": "ipython3",
   "version": "3.10.0"
  }
 },
 "nbformat": 4,
 "nbformat_minor": 5
}
